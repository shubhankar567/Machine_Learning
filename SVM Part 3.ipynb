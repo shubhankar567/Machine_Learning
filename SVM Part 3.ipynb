{
 "cells": [
  {
   "cell_type": "markdown",
   "id": "288db00a-f84b-4f03-8915-d06d7d409c5f",
   "metadata": {},
   "source": [
    "# Answer 1:\n",
    "In order to predict house price based on several characteristics, such as location, square footage, number of bedrooms, etc., we are developing an SVM regression model. \n",
    "\n",
    "The best regression metric to employ in this situation would be the **mean squared error (MSE)**. The MSE is a measure of the average squared difference between the predicted and actual values. It is a popular metric for regression problems because it is easy to understand and interpret. The lower the MSE, the better the model is at predicting the target variable. Other popular regression metrics include **mean absolute error (MAE)** and **R-squared**."
   ]
  },
  {
   "cell_type": "markdown",
   "id": "9df8584e-9eaa-4964-bcb5-c49442f291c8",
   "metadata": {},
   "source": [
    "# Answer 2:\n",
    "If your goal is to predict the actual price of a house as accurately as possible, then the **mean squared error (MSE)** would be the more appropriate metric to use. The MSE is a measure of the average squared difference between the predicted and actual values. It is a popular metric for regression problems because it is easy to understand and interpret. The lower the MSE, the better the model is at predicting the target variable. On the other hand, **R-squared** measures how well the independent variables in a regression model explain the variability of the dependent variable. It is a measure of how well the model fits the data. While R-squared can be useful in some cases, it does not directly measure prediction accuracy, so it may not be as useful as MSE in this case."
   ]
  },
  {
   "cell_type": "markdown",
   "id": "c689ec44-806e-4680-a7f9-416e8671c38b",
   "metadata": {},
   "source": [
    "# Answer 3:\n",
    "When dealing with a dataset that has a significant number of outliers, it is important to choose a regression metric that is **robust** to outliers. One such metric is the **mean absolute error (MAE)**. Unlike the mean squared error (MSE), which squares the difference between the predicted and actual values, the MAE takes the absolute value of this difference. This makes it less sensitive to outliers, which can have a large effect on the MSE. Other robust regression metrics include **Huber loss**, **Tukey's biweight loss**, and **Welsch's loss**. These metrics are designed to be less sensitive to outliers than traditional regression metrics like MSE and R-squared."
   ]
  },
  {
   "cell_type": "markdown",
   "id": "7cc186ee-2a50-47ed-8a10-6774a6bc6f10",
   "metadata": {},
   "source": [
    "# Answer 4:\n",
    "If both the mean squared error (MSE) and root mean squared error (RMSE) values are very close, then either metric can be used to evaluate the performance of your SVM regression model. The MSE is a measure of the average squared difference between the predicted and actual values, while the RMSE is the square root of the MSE. The RMSE is useful because it is in the same units as the target variable, which can make it easier to interpret. However, if both metrics are very close, then it may not matter which one you choose to use. Other popular regression metrics include **mean absolute error (MAE)** and **R-squared**."
   ]
  },
  {
   "cell_type": "markdown",
   "id": "7c998d5e-b1db-4d09-ab89-de71a04cd4a9",
   "metadata": {},
   "source": [
    "# Answer 5:\n",
    "If your goal is to measure how well the model explains the variance in the target variable, then the most appropriate evaluation metric would be the **R-squared**. R-squared measures how well the independent variables in a regression model explain the variability of the dependent variable. It is a measure of how well the model fits the data. The closer R-squared is to 1, the better the model is at explaining the variance in the target variable. Other popular regression metrics include **mean squared error (MSE)**, **mean absolute error (MAE)**, and **root mean squared error (RMSE)**."
   ]
  },
  {
   "cell_type": "code",
   "execution_count": null,
   "id": "1fe745b5-fd77-4dda-8340-5210742d3b92",
   "metadata": {},
   "outputs": [],
   "source": []
  }
 ],
 "metadata": {
  "kernelspec": {
   "display_name": "Python 3 (ipykernel)",
   "language": "python",
   "name": "python3"
  },
  "language_info": {
   "codemirror_mode": {
    "name": "ipython",
    "version": 3
   },
   "file_extension": ".py",
   "mimetype": "text/x-python",
   "name": "python",
   "nbconvert_exporter": "python",
   "pygments_lexer": "ipython3",
   "version": "3.10.8"
  }
 },
 "nbformat": 4,
 "nbformat_minor": 5
}
