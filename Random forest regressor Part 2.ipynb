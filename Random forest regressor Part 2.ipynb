{
 "cells": [
  {
   "cell_type": "code",
   "execution_count": 3,
   "id": "c3b4ef2e-74f8-41f2-947a-f70828093220",
   "metadata": {},
   "outputs": [
    {
     "name": "stdout",
     "output_type": "stream",
     "text": [
      "Accuracy: 0.8241758241758241\n",
      "Precision: 0.803921568627451\n",
      "Recall: 0.8723404255319149\n",
      "F1 score: 0.8367346938775511\n",
      "Feature ranking:\n",
      "1. thal_2 (0.109885)\n",
      "2. oldpeak (0.106228)\n",
      "3. thalach (0.095154)\n",
      "4. ca_0 (0.081745)\n",
      "5. chol (0.070079)\n"
     ]
    },
    {
     "data": {
      "image/png": "[encoded data removed]",
      "text/plain": [
       "<Figure size 640x480 with 1 Axes>"
      ]
     },
     "metadata": {},
     "output_type": "display_data"
    },
    {
     "name": "stdout",
     "output_type": "stream",
     "text": [
      "Best hyperparameters: {'max_depth': 10, 'min_samples_leaf': 1, 'min_samples_split': 4, 'n_estimators': 50}\n",
      "Accuracy: 0.8241758241758241\n",
      "Precision: 0.803921568627451\n",
      "Recall: 0.8723404255319149\n",
      "F1 score: 0.8367346938775511\n"
     ]
    },
    {
     "ename": "ModuleNotFoundError",
     "evalue": "No module named 'mlxtend'",
     "output_type": "error",
     "traceback": [
      "\u001b[0;31m---------------------------------------------------------------------------\u001b[0m",
      "\u001b[0;31mModuleNotFoundError\u001b[0m                       Traceback (most recent call last)",
      "Cell \u001b[0;32mIn[3], line 76\u001b[0m\n\u001b[1;32m     73\u001b[0m \u001b[38;5;28mprint\u001b[39m(\u001b[38;5;124m'\u001b[39m\u001b[38;5;124mF1 score:\u001b[39m\u001b[38;5;124m'\u001b[39m, f1_score(y_test, y_pred))\n\u001b[1;32m     75\u001b[0m \u001b[38;5;66;03m# Q8. Interpret the model by analysing the decision boundaries of the random forest classifier\u001b[39;00m\n\u001b[0;32m---> 76\u001b[0m \u001b[38;5;28;01mfrom\u001b[39;00m \u001b[38;5;21;01mmlxtend\u001b[39;00m\u001b[38;5;21;01m.\u001b[39;00m\u001b[38;5;21;01mplotting\u001b[39;00m \u001b[38;5;28;01mimport\u001b[39;00m plot_decision_regions\n\u001b[1;32m     78\u001b[0m X_2d \u001b[38;5;241m=\u001b[39m X_train\u001b[38;5;241m.\u001b[39miloc[:, indices[:\u001b[38;5;241m2\u001b[39m]]\u001b[38;5;241m.\u001b[39mvalues \u001b[38;5;66;03m# select two most important features\u001b[39;00m\n\u001b[1;32m     79\u001b[0m y_2d \u001b[38;5;241m=\u001b[39m y_train\u001b[38;5;241m.\u001b[39mvalues\n",
      "\u001b[0;31mModuleNotFoundError\u001b[0m: No module named 'mlxtend'"
     ]
    }
   ],
   "source": [
    "import pandas as pd\n",
    "import numpy as np\n",
    "from sklearn.ensemble import RandomForestClassifier\n",
    "from sklearn.model_selection import train_test_split, GridSearchCV\n",
    "from sklearn.metrics import accuracy_score, precision_score, recall_score, f1_score\n",
    "from sklearn.preprocessing import StandardScaler\n",
    "\n",
    "# Q1. Preprocess the dataset\n",
    "data = pd.read_csv('dataset.csv')\n",
    "data = data.dropna() # drop rows with missing values\n",
    "\n",
    "# encode categorical variables\n",
    "data = pd.get_dummies(data, columns=['sex', 'cp', 'fbs', 'restecg', 'exang', 'slope', 'ca', 'thal'])\n",
    "\n",
    "# scale numerical features\n",
    "scaler = StandardScaler()\n",
    "data[['age', 'trestbps', 'chol', 'thalach', 'oldpeak']] = scaler.fit_transform(data[['age', 'trestbps', 'chol', 'thalach', 'oldpeak']])\n",
    "\n",
    "# Q2. Split the dataset into a training set and a test set\n",
    "X = data.drop('target', axis=1)\n",
    "y = data['target']\n",
    "X_train, X_test, y_train, y_test = train_test_split(X, y, test_size=0.3, random_state=0)\n",
    "\n",
    "# Q3. Train a random forest classifier on the training set\n",
    "rfc = RandomForestClassifier(n_estimators=100, max_depth=10)\n",
    "rfc.fit(X_train, y_train)\n",
    "\n",
    "# Q4. Evaluate the performance of the model on the test set\n",
    "y_pred = rfc.predict(X_test)\n",
    "print('Accuracy:', accuracy_score(y_test, y_pred))\n",
    "print('Precision:', precision_score(y_test, y_pred))\n",
    "print('Recall:', recall_score(y_test, y_pred))\n",
    "print('F1 score:', f1_score(y_test, y_pred))\n",
    "\n",
    "# Q5. Identify the top 5 most important features in predicting heart disease risk\n",
    "importances = rfc.feature_importances_\n",
    "indices = np.argsort(importances)[::-1]\n",
    "features = X.columns\n",
    "\n",
    "# Print the feature ranking\n",
    "print(\"Feature ranking:\")\n",
    "for f in range(5):\n",
    "    print(\"%d. %s (%f)\" % (f + 1, features[indices[f]], importances[indices[f]]))\n",
    "\n",
    "# Plot the feature importances of the forest\n",
    "import matplotlib.pyplot as plt\n",
    "plt.figure()\n",
    "plt.title(\"Feature importances\")\n",
    "plt.bar(range(5), importances[indices[:5]], color=\"r\", align=\"center\")\n",
    "plt.xticks(range(5), features[indices[:5]])\n",
    "plt.xlim([-1, 5])\n",
    "plt.show()\n",
    "\n",
    "# Q6. Tune the hyperparameters of the random forest classifier using grid search\n",
    "param_grid = {\n",
    "    'n_estimators': [10, 50, 100],\n",
    "    'max_depth': [5, 10],\n",
    "    'min_samples_split': [2, 4],\n",
    "    'min_samples_leaf': [1, 2]\n",
    "}\n",
    "grid_search = GridSearchCV(estimator=rfc, param_grid=param_grid, cv=5)\n",
    "grid_search.fit(X_train, y_train)\n",
    "\n",
    "# Q7. Report the best set of hyperparameters found by the search and the corresponding performance metrics\n",
    "best_params = grid_search.best_params_\n",
    "best_rfc = RandomForestClassifier(**best_params)\n",
    "best_rfc.fit(X_train, y_train)\n",
    "y_pred = best_rfc.predict(X_test)\n",
    "print('Best hyperparameters:', best_params)\n",
    "print('Accuracy:', accuracy_score(y_test, y_pred))\n",
    "print('Precision:', precision_score(y_test, y_pred))\n",
    "print('Recall:', recall_score(y_test, y_pred))\n",
    "print('F1 score:', f1_score(y_test, y_pred))\n",
    "\n",
    "# Q8. Interpret the model by analysing the decision boundaries of the random forest classifier\n",
    "from mlxtend.plotting import plot_decision_regions\n",
    "\n",
    "X_2d = X_train.iloc[:, indices[:2]].values # select two most important features\n",
    "y_2d = y_train.values\n",
    "\n",
    "best_rfc.fit(X_2d,y_2d)\n",
    "\n",
    "plot_decision_regions(X_2d,y_2d,best_rfc)\n",
    "plt.xlabel(features[indices[0]])\n",
    "plt.ylabel(features[indices[1]])\n",
    "plt.title('Decision boundaries')\n",
    "plt.show()\n"
   ]
  },
  {
   "cell_type": "code",
   "execution_count": null,
   "id": "04f0700c-c485-475c-9f7a-99a471c1957a",
   "metadata": {},
   "outputs": [],
   "source": []
  }
 ],
 "metadata": {
  "kernelspec": {
   "display_name": "Python 3 (ipykernel)",
   "language": "python",
   "name": "python3"
  },
  "language_info": {
   "codemirror_mode": {
    "name": "ipython",
    "version": 3
   },
   "file_extension": ".py",
   "mimetype": "text/x-python",
   "name": "python",
   "nbconvert_exporter": "python",
   "pygments_lexer": "ipython3",
   "version": "3.10.8"
  }
 },
 "nbformat": 4,
 "nbformat_minor": 5
}
