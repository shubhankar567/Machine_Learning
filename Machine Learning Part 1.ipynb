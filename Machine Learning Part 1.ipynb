{
 "cells": [
  {
   "cell_type": "markdown",
   "id": "e9920dac-3681-47ef-92f4-a152aa0a46ea",
   "metadata": {},
   "source": [
    "# Answer 1:\n",
    "a) **Artificial Intelligence (AI)** is the theory and development of computer systems able to perform tasks that normally require human intelligence. An example of AI is a computer program that can play chess.\n",
    "\n",
    "b) **Machine Learning** is a subset of AI that can automatically adapt with minimal human interference. An example of Machine Learning is a program that can learn to recognize objects in photos.\n",
    "\n",
    "c) **Deep Learning** is a subset of Machine Learning that uses artificial neural networks to mimic the learning process of the human brain. An example of Deep Learning is a technology that enables a user to record a message, which is analyzed and reproduced by a machine. The machine uses the replicated voice to call a family member who is unable to tell the difference between the voice of the family member and the voice of the bot."
   ]
  },
  {
   "cell_type": "markdown",
   "id": "97cd7032-8b88-4596-a013-04a8d1e2e2f5",
   "metadata": {},
   "source": [
    "# Answer 2:\n",
    "**Supervised Learning** is an approach to machine learning that uses labeled data sets to train algorithms in order to properly classify data and predict outcomes. Some examples of supervised learning algorithms are linear regression, decision trees, support vector machines, logistic regression, nearest neighbor, Gaussian naive Bayes, and random forest. These algorithms can be applied to various business applications, such as image- and object-recognition, computer vision, and imagery analysis.\n",
    "\n",
    "For instance, let's say we want to predict a new home’s price. In order for predictions to be made, input data must be gathered. To determine a new home’s price, for example, we need to know factors like location, square footage, outdoor space, number of floors, number of rooms and more. The home’s price represents the output or label while the factors like location, square footage and outdoor space represent the input data for the algorithm. Once the corresponding labels are set, data from thousands of other homes can be gathered and compared against the existing input data. By weighing the features against the prices of these other homes, the model can do the same for the home in question to determine an accurate price."
   ]
  },
  {
   "cell_type": "markdown",
   "id": "c50fb2a1-7a10-4be8-8ac5-973b09111179",
   "metadata": {},
   "source": [
    "# Answer 3:"
   ]
  },
  {
   "cell_type": "markdown",
   "id": "e1f6d33a-6d95-48f6-91f1-2abe08a08e06",
   "metadata": {},
   "source": [
    "**Unsupervised Learning** is a type of machine learning that analyzes and finds patterns in unlabelled data. Some examples of unsupervised learning methods are clustering data points using a similarity metric and dimensionality reduction to project high-dimensional data to lower subspaces. Some examples of unsupervised learning applications are categorizing news articles, recognizing objects in images, predicting diseases using medical imaging, and segmenting customers or DNA patterns.\n",
    "\n",
    "For instance, let's say we want to organize computing clusters. The geographic areas of servers can be determined on the basis of clustering of web requests received from a specific area of the world. The local server will include only the data frequently created by people of that region."
   ]
  },
  {
   "cell_type": "markdown",
   "id": "a990aa61-81e4-42fc-b2ff-f8162444b539",
   "metadata": {},
   "source": [
    "# Answer 4:\n",
    "AI, ML, DL, and DS are all related fields that deal with developing intelligent systems and analyzing data.\n",
    "\n",
    "**Artificial Intelligence (AI)** is the broadest concept of all and gives a machine the ability to imitate human behavior.\n",
    "\n",
    "**Machine Learning (ML)** is a subset of AI that uses algorithms to learn from data and predict outputs without being explicitly programmed.\n",
    "\n",
    "**Deep Learning (DL)** is a subset of ML that uses complex neural networks to detect patterns in large unstructured data sets, inspired by how human brains work.\n",
    "\n",
    "**Data Science (DS)** is a field of study about data systems and processes aimed at maintaining data sets and deriving meaning from them. Data scientists use tools, applications, principles, and algorithms to make sense of random data clusters."
   ]
  },
  {
   "cell_type": "markdown",
   "id": "1ca8c42b-08de-4429-9367-c4b3c86d9d32",
   "metadata": {},
   "source": [
    "# Answer 5:\n",
    "Supervised, Unsupervised and Semi-supervised learning are all approaches to machine learning that differ in the type of data they use to train algorithms.\n",
    "\n",
    "**Supervised Learning** uses labeled datasets to train algorithms in order to properly classify data and predict outcomes.\n",
    "\n",
    "**Unsupervised Learning** uses machine learning algorithms to analyze and cluster unlabeled data sets. These algorithms discover hidden patterns in data without the need for human intervention.\n",
    "\n",
    "**Semi-supervised Learning** takes a middle ground between supervised and unsupervised learning. It uses a small amount of labeled data bolstering a larger set of unlabeled data.\n",
    "\n",
    "Generally speaking, if you have a lot of labeled data and a clear goal to predict, supervised learning is recommended. Unsupervised learning is suitable for cases with no or few labels and no clear goal to predict. Semi-supervised learning is best when there are some labels and a clear goal to predict but not enough data or quality to achieve it."
   ]
  },
  {
   "cell_type": "markdown",
   "id": "370dd1a9-c4c0-4313-9680-36a518b1ad1d",
   "metadata": {},
   "source": [
    "# Answer 6:\n",
    "In machine learning, it is common practice to split the dataset into three distinct sets: training, validation, and test sets.\n",
    "\n",
    "The **Training Set** is the largest corpus of your dataset that you reserve for training your model. After training, inference on these images will be taken with a grain of salt, since the model has already had a chance to look at and memorize the correct output.\n",
    "\n",
    "The **Validation Set** is a set of data, separate from the training set, that is used to validate our model performance during training. This validation process gives information that helps us tune the model’s hyperparameters and configurations accordingly. It is like a critic telling us whether the training is moving in the right direction or not.\n",
    "\n",
    "The **Test Set** is a set of data that is used to evaluate the performance of the model after it has been trained. The test set should only be used once, after all training and validation have been completed.\n",
    "\n",
    "The importance of splitting your dataset into these three sets is to prevent your model from overfitting i.e., the model becomes really good at classifying the samples in the training set but cannot generalize and make accurate classifications on the data it has not seen before."
   ]
  },
  {
   "cell_type": "markdown",
   "id": "d4f1a777-9489-4fe1-93f5-2683e3e413f8",
   "metadata": {},
   "source": [
    "# Answer 7:\n",
    "Unsupervised learning can be used in anomaly detection by identifying unexpected items or events in unlabeled datasets, which differ from the norm. It does not require any prior knowledge about the anomalies, but assumes that they are rare and make up a small percentage of the data. It involves modeling the normal data distribution and defining a measurement to classify samples as anomalous or normal.\n",
    "\n",
    "One of the most common algorithms used for unsupervised anomaly detection is Density-Based Scan Clustering (DBSCAN). This algorithm can be applied in many fields and is especially useful for anomaly detection.\n",
    "\n",
    "For example, unsupervised anomaly detection can be applied in practical applications such as network intrusion detection, fraud detection, and life science and medical domain."
   ]
  },
  {
   "cell_type": "markdown",
   "id": "98a29eb3-ab34-4403-98e5-f9700fa20fa3",
   "metadata": {},
   "source": [
    "# Answer 8:\n",
    "Some commonly used **Supervised Learning** algorithms include linear regression, logistic regression, decision trees, and support vector machines.\n",
    "\n",
    "Some commonly used **Unsupervised Learning** algorithms include k-means clustering, hierarchical clustering, and principal component analysis (PCA)."
   ]
  },
  {
   "cell_type": "code",
   "execution_count": null,
   "id": "62c7f649-cd77-466a-8eda-100905df07ee",
   "metadata": {},
   "outputs": [],
   "source": []
  }
 ],
 "metadata": {
  "kernelspec": {
   "display_name": "Python 3 (ipykernel)",
   "language": "python",
   "name": "python3"
  },
  "language_info": {
   "codemirror_mode": {
    "name": "ipython",
    "version": 3
   },
   "file_extension": ".py",
   "mimetype": "text/x-python",
   "name": "python",
   "nbconvert_exporter": "python",
   "pygments_lexer": "ipython3",
   "version": "3.10.8"
  }
 },
 "nbformat": 4,
 "nbformat_minor": 5
}
