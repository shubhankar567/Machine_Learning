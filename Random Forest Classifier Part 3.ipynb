{
 "cells": [
  {
   "cell_type": "markdown",
   "id": "e77d3df1-ad8b-413d-a52d-fca7355f7d52",
   "metadata": {},
   "source": [
    "# Answer 1:\n",
    "Here's a pipeline that we can use to automate the feature engineering process and handle missing values in your machine learning project:\n",
    "\n",
    "```python\n",
    "from sklearn.compose import ColumnTransformer\n",
    "from sklearn.ensemble import RandomForestClassifier\n",
    "from sklearn.feature_selection import SelectKBest, f_classif\n",
    "from sklearn.impute import SimpleImputer\n",
    "from sklearn.pipeline import Pipeline\n",
    "from sklearn.preprocessing import OneHotEncoder, StandardScaler\n",
    "\n",
    "# Define the numerical pipeline\n",
    "numerical_pipeline = Pipeline([\n",
    "    ('imputer', SimpleImputer(strategy='mean')),\n",
    "    ('scaler', StandardScaler())\n",
    "])\n",
    "\n",
    "# Define the categorical pipeline\n",
    "categorical_pipeline = Pipeline([\n",
    "    ('imputer', SimpleImputer(strategy='most_frequent')),\n",
    "    ('encoder', OneHotEncoder(handle_unknown='ignore'))\n",
    "])\n",
    "\n",
    "# Combine the numerical and categorical pipelines using a ColumnTransformer\n",
    "preprocessor = ColumnTransformer(\n",
    "    transformers=[\n",
    "        ('num', numerical_pipeline, ['numerical_columns']),\n",
    "        ('cat', categorical_pipeline, ['categorical_columns'])\n",
    "    ])\n",
    "\n",
    "# Use a Random Forest Classifier to build the final model\n",
    "model = Pipeline([\n",
    "    ('feature_selection', SelectKBest(f_classif, k=10)),\n",
    "    ('preprocessor', preprocessor),\n",
    "    ('classifier', RandomForestClassifier())\n",
    "])\n",
    "\n",
    "# Fit the model on the training data and evaluate its accuracy on the test data\n",
    "model.fit(X_train, y_train)\n",
    "accuracy = model.score(X_test, y_test)\n",
    "```\n",
    "\n",
    "This pipeline includes several steps to handle missing values, scale numerical columns, encode categorical columns, and select important features. The final model is built using a Random Forest Classifier and its accuracy is evaluated on the test dataset.\n",
    "\n",
    "Possible improvements for this pipeline could include trying different imputation strategies for handling missing values, experimenting with different feature selection methods, or tuning the hyperparameters of the Random Forest Classifier to improve its performance. You could also try using different machine learning algorithms to see if they perform better on your dataset."
   ]
  },
  {
   "cell_type": "markdown",
   "id": "cdd8452a-0bfe-4875-a2ec-c7ad4bcbd689",
   "metadata": {},
   "source": [
    "# Answer 2:\n",
    "Here's an example of how to build a pipeline that includes a Random Forest classifier and a Logistic Regression classifier, and then use a Voting classifier to combine their predictions:\n",
    "\n",
    "In this example, we first load the iris dataset and split it into training and test sets. Then we create a Random Forest classifier and a Logistic Regression classifier. We use a Voting classifier to combine their predictions using soft voting, which means that the class probabilities predicted by each classifier are averaged to make the final prediction. We create a pipeline that includes the Voting classifier and train it on the training data. Finally, we evaluate the accuracy of the pipeline on the test data."
   ]
  },
  {
   "cell_type": "code",
   "execution_count": 1,
   "id": "9cf62718-150c-4aae-9dae-8333ad72dfed",
   "metadata": {},
   "outputs": [
    {
     "name": "stdout",
     "output_type": "stream",
     "text": [
      "Accuracy: 0.97\n"
     ]
    },
    {
     "name": "stderr",
     "output_type": "stream",
     "text": [
      "/opt/conda/lib/python3.10/site-packages/sklearn/linear_model/_logistic.py:458: ConvergenceWarning: lbfgs failed to converge (status=1):\n",
      "STOP: TOTAL NO. of ITERATIONS REACHED LIMIT.\n",
      "\n",
      "Increase the number of iterations (max_iter) or scale the data as shown in:\n",
      "    https://scikit-learn.org/stable/modules/preprocessing.html\n",
      "Please also refer to the documentation for alternative solver options:\n",
      "    https://scikit-learn.org/stable/modules/linear_model.html#logistic-regression\n",
      "  n_iter_i = _check_optimize_result(\n"
     ]
    }
   ],
   "source": [
    "from sklearn.datasets import load_iris\n",
    "from sklearn.ensemble import RandomForestClassifier, VotingClassifier\n",
    "from sklearn.linear_model import LogisticRegression\n",
    "from sklearn.model_selection import train_test_split\n",
    "from sklearn.pipeline import Pipeline\n",
    "\n",
    "# Load the iris dataset\n",
    "iris = load_iris()\n",
    "X, y = iris.data, iris.target\n",
    "\n",
    "# Split the data into training and test sets\n",
    "X_train, X_test, y_train, y_test = train_test_split(X, y, random_state=0)\n",
    "\n",
    "# Create a Random Forest classifier\n",
    "rf_clf = RandomForestClassifier(n_estimators=100)\n",
    "\n",
    "# Create a Logistic Regression classifier\n",
    "lr_clf = LogisticRegression(solver='lbfgs', multi_class='auto')\n",
    "\n",
    "# Create a Voting classifier that combines the predictions of the Random Forest and Logistic Regression classifiers\n",
    "voting_clf = VotingClassifier(estimators=[('rf', rf_clf), ('lr', lr_clf)], voting='soft')\n",
    "\n",
    "# Create a pipeline that includes the Voting classifier\n",
    "pipeline = Pipeline([('classifier', voting_clf)])\n",
    "\n",
    "# Train the pipeline on the training data\n",
    "pipeline.fit(X_train, y_train)\n",
    "\n",
    "# Evaluate the accuracy of the pipeline on the test data\n",
    "accuracy = pipeline.score(X_test, y_test)\n",
    "print(f'Accuracy: {accuracy:.2f}')"
   ]
  },
  {
   "cell_type": "code",
   "execution_count": null,
   "id": "f82cdf1c-cf8d-4fbb-833d-88182cd3e461",
   "metadata": {},
   "outputs": [],
   "source": []
  }
 ],
 "metadata": {
  "kernelspec": {
   "display_name": "Python 3 (ipykernel)",
   "language": "python",
   "name": "python3"
  },
  "language_info": {
   "codemirror_mode": {
    "name": "ipython",
    "version": 3
   },
   "file_extension": ".py",
   "mimetype": "text/x-python",
   "name": "python",
   "nbconvert_exporter": "python",
   "pygments_lexer": "ipython3",
   "version": "3.10.8"
  }
 },
 "nbformat": 4,
 "nbformat_minor": 5
}
