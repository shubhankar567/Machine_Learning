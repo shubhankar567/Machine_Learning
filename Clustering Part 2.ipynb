{
 "cells": [
  {
   "cell_type": "markdown",
   "id": "9f70242a-44fe-4732-949b-b6871c07e788",
   "metadata": {},
   "source": [
    "# Answer 1: \n",
    "Hierarchical clustering is a clustering technique that builds a hierarchy of clusters by either merging smaller clusters into larger ones (agglomerative) or splitting larger clusters into smaller ones (divisive). It is different from other clustering techniques in that it does not require the user to specify the number of clusters beforehand, and it produces a tree-like structure called a dendrogram that can be used to visualize the relationships between clusters.\n",
    "\n",
    "# Answer 2: \n",
    "The two main types of hierarchical clustering algorithms are agglomerative and divisive. Agglomerative hierarchical clustering starts with each data point as its own cluster and iteratively merges the two closest clusters until all data points are in a single cluster. Divisive hierarchical clustering, on the other hand, starts with all data points in a single cluster and iteratively splits the cluster into two until each data point is in its own cluster.\n",
    "\n",
    "# Answer 3: \n",
    "In hierarchical clustering, the distance between two clusters is determined by a linkage criterion. Common linkage criteria include single linkage (the distance between the two closest points in different clusters), complete linkage (the distance between the two farthest points in different clusters), average linkage (the average distance between all pairs of points in different clusters), and Ward's method (the increase in variance when two clusters are merged). Common distance metrics used include Euclidean distance, Manhattan distance, and cosine similarity.\n",
    "\n",
    "# Answer 4: \n",
    "To determine the optimal number of clusters in hierarchical clustering, one can use methods such as visual inspection of the dendrogram or statistical tests like the elbow method or gap statistic. Another approach is to use a stopping criterion based on the distance between clusters or the size of the clusters.\n",
    "\n",
    "# Answer 5: \n",
    "A dendrogram is a tree-like diagram that represents the hierarchical structure of the data produced by a hierarchical clustering algorithm. It is useful for visualizing the relationships between clusters and for determining the optimal number of clusters by looking for large jumps in the distances between merged clusters.\n",
    "\n",
    "# Answer 6: \n",
    "Yes, hierarchical clustering can be used for both numerical and categorical data. For numerical data, common distance metrics include Euclidean distance, Manhattan distance, and cosine similarity. For categorical data, distance metrics such as Hamming distance or Jaccard similarity can be used.\n",
    "\n",
    "# Answer 7: \n",
    "Hierarchical clustering can be used to identify outliers or anomalies in your data by looking for small clusters or singletons that are far away from other clusters. These may represent unusual observations that do not fit well with any of the larger clusters."
   ]
  },
  {
   "cell_type": "code",
   "execution_count": null,
   "id": "24d3b93e-e8a9-4449-a3ba-5636f388515e",
   "metadata": {},
   "outputs": [],
   "source": []
  }
 ],
 "metadata": {
  "kernelspec": {
   "display_name": "Python 3 (ipykernel)",
   "language": "python",
   "name": "python3"
  },
  "language_info": {
   "codemirror_mode": {
    "name": "ipython",
    "version": 3
   },
   "file_extension": ".py",
   "mimetype": "text/x-python",
   "name": "python",
   "nbconvert_exporter": "python",
   "pygments_lexer": "ipython3",
   "version": "3.10.8"
  }
 },
 "nbformat": 4,
 "nbformat_minor": 5
}
